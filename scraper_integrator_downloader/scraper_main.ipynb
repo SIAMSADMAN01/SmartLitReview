{
 "cells": [
  {
   "cell_type": "markdown",
   "metadata": {},
   "source": [
    "# SmartLitReview"
   ]
  },
  {
   "cell_type": "markdown",
   "metadata": {},
   "source": [
    "### Program list:\n",
    "\n",
    "1) SmartLitReview: Scraper\n",
    "\n",
    "2) SmartLitReview: Integrator & Downlaoder\n",
    "\n",
    "\n",
    "### Data Source list:\n",
    "\n",
    "1) Google Scholar\n",
    "2) Springer"
   ]
  },
  {
   "cell_type": "code",
   "execution_count": null,
   "metadata": {},
   "outputs": [],
   "source": [
    "def SmartLitReview():\n",
    "    \n",
    "    while True:\n",
    "    \n",
    "        try:\n",
    "            prgrm_usrInput = int(input(\"Hello..\\n\\n Please insert 1 to use -->\\n1) SmartLitReview: Scraper\\n\\nPlease insert 2 to use -->\\n2) SmartLitReview: Integrator & Downlaoder\\n\\nInput -->\"))\n",
    "        \n",
    "            if prgrm_usrInput == 1:\n",
    "                print(f'Your have select the \"SmartLitReview Scraper\" to use.')\n",
    "\n",
    "                # user input => search keyword:\n",
    "                while True:\n",
    "                    try:\n",
    "                        select_database = int(input (\"Hello..\\n\\n Please insert 1 to use -->\\n1) Google Scholar or \\n\\nPlease insert 2 to use -->\\n2) Springer as the data source to scrape the papers.\\n\\nInput -->\"))\n",
    "\n",
    "                        if select_database == 1:\n",
    "                            print(f'Your have select the \"Google Schoalr\" as the data source.')\n",
    "                            %run google_scholar_scraper.py\n",
    "                            break\n",
    "                        elif select_database ==2:\n",
    "                            print(f'Your have select the \"Springer\" as the data source.')\n",
    "                            %run springer_scraper.py\n",
    "                            break\n",
    "\n",
    "                        else:\n",
    "                            print('Please enter \"1\" or \"2\" only to continue\\n')\n",
    "                            continue\n",
    "                    except:\n",
    "                        print(\"\\n\\nInvalid input, try again..!\")\n",
    "                        break\n",
    "                break\n",
    "            elif prgrm_usrInput ==2:\n",
    "                print(f'Your have select the \"SmartLitReview: Integrator & Downlaoder\" to use.')\n",
    "                %run integrator_downloader.py\n",
    "\n",
    "                break\n",
    "            else:\n",
    "                print('Please enter \"1\" or \"2\" only to continue\\n')\n",
    "                continue\n",
    "        except:\n",
    "            print(\"\\n\\nInvalid input, try again..!\")\n",
    "            break"
   ]
  },
  {
   "cell_type": "markdown",
   "metadata": {},
   "source": [
    "### Run SmartLitReview:"
   ]
  },
  {
   "cell_type": "code",
   "execution_count": null,
   "metadata": {},
   "outputs": [],
   "source": [
    "SmartLitReview()"
   ]
  },
  {
   "cell_type": "markdown",
   "metadata": {},
   "source": [
    "##################################################################################################################################################################"
   ]
  },
  {
   "cell_type": "markdown",
   "metadata": {},
   "source": []
  }
 ],
 "metadata": {
  "kernelspec": {
   "display_name": "smart-lr_env",
   "language": "python",
   "name": "python3"
  },
  "language_info": {
   "codemirror_mode": {
    "name": "ipython",
    "version": 3
   },
   "file_extension": ".py",
   "mimetype": "text/x-python",
   "name": "python",
   "nbconvert_exporter": "python",
   "pygments_lexer": "ipython3",
   "version": "3.12.1"
  }
 },
 "nbformat": 4,
 "nbformat_minor": 2
}
